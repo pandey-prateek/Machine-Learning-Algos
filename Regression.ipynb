{
 "cells": [
  {
   "cell_type": "markdown",
   "id": "improving-pepper",
   "metadata": {
    "id": "improving-pepper"
   },
   "source": [
    "# Assignment 1 - Question 3\n",
    "The objective of this assignment is to get you familiarize with  the  problem  of  `Linear Regression`.\n",
    "\n",
    "## Instructions\n",
    "- Write your code and analysis in the indicated cells.\n",
    "- Ensure that this notebook runs without errors when the cells are run in sequence.\n",
    "- Do not attempt to change the contents of other cells.\n",
    "- No inbuilt functions to be used until specified.\n",
    "\n",
    "## Submission\n",
    "- Ensure that this notebook runs without errors when the cells are run in sequence.\n",
    "- Rename the notebook to `<roll_number>_A1_Q3.ipynb`."
   ]
  },
  {
   "cell_type": "markdown",
   "id": "final-transaction",
   "metadata": {
    "id": "final-transaction"
   },
   "source": [
    "## 1.3.0 Background about the dataset\n",
    "\n",
    "TLDR: You have 25 independent variables (`x1, x2, x3, ... , x25`) type: `float` for each data point. You can use a linear combination of these 25 independent variables to predict the y (dependent variable) of each data point."
   ]
  },
  {
   "cell_type": "code",
   "execution_count": null,
   "id": "lyric-olympus",
   "metadata": {
    "id": "lyric-olympus"
   },
   "outputs": [],
   "source": [
    "import csv\n",
    "import random\n",
    "import numpy as np\n",
    "import matplotlib.pyplot as plt"
   ]
  },
  {
   "cell_type": "code",
   "execution_count": null,
   "id": "hundred-receipt",
   "metadata": {
    "id": "hundred-receipt"
   },
   "outputs": [],
   "source": [
    "train_data = list()\n",
    "with open('train_q3.csv', 'r') as infile:\n",
    "    input_rows = csv.DictReader(infile)\n",
    "    for row in input_rows:\n",
    "        data_point = ([float(row['x1']), float(row['x2']), float(row['x3']),\n",
    "                       float(row['x4']), float(row['x5']), float(row['x6']),\n",
    "                        float(row['x7']), float(row['x8']), float(row['x9']),\n",
    "                        float(row['x10']), float(row['x11']), float(row['x12']),\n",
    "                        float(row['x13']), float(row['x14']), float(row['x15']),\n",
    "                        float(row['x16']), float(row['x17']), float(row['x18']),\n",
    "                        float(row['x19']), float(row['x20']), float(row['x21']),\n",
    "                        float(row['x22']), float(row['x23']), float(row['x24']),\n",
    "                        float(row['x25'])], float(row['y']))\n",
    "        train_data.append(data_point)\n",
    "        \n",
    "# each point in x_train has 25 values - 1 for each feature\n",
    "x_train = [x[0] for x in train_data]\n",
    "# each point in y_train has 1 value - the 'y' of the molecule\n",
    "y_train = [x[1] for x in train_data]\n",
    "\n",
    "\n",
    "test_data = list()\n",
    "with open('test_q3.csv', 'r') as infile:\n",
    "    input_rows = csv.DictReader(infile)\n",
    "    for row in input_rows:\n",
    "        data_point = ([float(row['x1']), float(row['x2']), float(row['x3']),\n",
    "                        float(row['x4']), float(row['x5']), float(row['x6']),\n",
    "                        float(row['x7']), float(row['x8']), float(row['x9']),\n",
    "                        float(row['x10']), float(row['x11']), float(row['x12']),\n",
    "                        float(row['x13']), float(row['x14']), float(row['x15']),\n",
    "                        float(row['x16']), float(row['x17']), float(row['x18']),\n",
    "                        float(row['x19']), float(row['x20']), float(row['x21']),\n",
    "                        float(row['x22']), float(row['x23']), float(row['x24']),\n",
    "                        float(row['x25'])], float(row['y']))\n",
    "        test_data.append(data_point)\n",
    "\n",
    "x_test = [x[0] for x in test_data]\n",
    "y_test = [x[1] for x in test_data]"
   ]
  },
  {
   "cell_type": "markdown",
   "id": "square-direction",
   "metadata": {
    "id": "square-direction"
   },
   "source": [
    "### 1.3.1 Implement a Linear Regression model that minimizes the MSE **without using any libraries**. You may use NumPy to vectorize your code, but *do not use numpy.polyfit* or anything similar.\n",
    "\n",
    "1.3.1.1 Explain how you plan to implement Linear Regression in 5-10 lines.\n",
    "\n",
    "1.3.1.2 Implement Linear Regression using `x_train` and `y_train` as the train dataset.\n",
    "\n",
    "1.3.2.3 Choose the best learning rate and print the learning rate for which you achieved the best MSE.\n",
    "\n",
    "1.2.1.4 Make a [Parity Plot](https://en.wikipedia.org/wiki/Parity_plot) of your model's bandgap predictions on the test set with the actual values."
   ]
  },
  {
   "cell_type": "markdown",
   "id": "frozen-forth",
   "metadata": {
    "id": "frozen-forth"
   },
   "source": [
    "<!-- your answer to 1.3.1.1 -->\n",
    "`ANSWER 1.3.1.1`"
   ]
  },
  {
   "cell_type": "code",
   "execution_count": null,
   "id": "angry-depression",
   "metadata": {
    "id": "angry-depression"
   },
   "outputs": [],
   "source": [
    "# 1.3.1.2\n",
    "# implement Linear Regression\n",
    "\n",
    "\n",
    "class LinearRegression:\n",
    "\n",
    "    def __init__(self, alpha = 0.019, n_iters=7700):\n",
    "        self.alpha = alpha\n",
    "        self.n_iters = n_iters\n",
    "        self.theta = None\n",
    "        self.error = None\n",
    "        \n",
    "    def predict(self, X):\n",
    "        y_pred = np.dot(X,self.theta) + self.error\n",
    "        return y_pred\n",
    "    \n",
    "    def fit(self, X, y):\n",
    "        shape = X.shape\n",
    "        total_size=shape[0]\n",
    "        self.theta = np.zeros(shape[1])\n",
    "        self.error = 0\n",
    "        \n",
    "        for _ in range(self.n_iters):\n",
    "            y_pred = np.dot(X,self.theta) + self.error\n",
    "            self.error,self.theta=self.gradient_descent(y,y_pred,X,total_size)\n",
    "            \n",
    "    def gradient_descent(self,y,y_pred,X,total_size):\n",
    "            return self.error - self.alpha * ((2/total_size) * (y_pred-y).sum()),self.theta - self.alpha * ((2/total_size) * np.dot(X.T, (y_pred-y)))\n",
    "    def score(self,y_true,y_pred):\n",
    "        return ((y_true-y_pred)**2).sum()/len(y_true)\n",
    "            \n",
    "    "
   ]
  },
  {
   "cell_type": "code",
   "execution_count": null,
   "id": "b19c0ac4",
   "metadata": {
    "id": "b19c0ac4"
   },
   "outputs": [],
   "source": [
    "# 1.3.2.3\n",
    "# try with different learning rates and choose the best one\n",
    "rand=np.linspace(0.01, 0.02, num=333)\n",
    "min=float(\"inf\")\n",
    "y_pred_f=y_test\n",
    "min_lr=1\n",
    "for i in rand:\n",
    "    regressor=LinearRegression(alpha=i)\n",
    "    regressor.fit(np.array(x_train),np.array(y_train))\n",
    "    y_pred=regressor.predict(x_test)\n",
    "    score=regressor.score(y_test,y_pred)\n",
    "    if score < min :\n",
    "        y_pred_f=y_pred\n",
    "        min=score\n",
    "        min_lr=i\n",
    "    "
   ]
  },
  {
   "cell_type": "code",
   "execution_count": null,
   "id": "foster-center",
   "metadata": {
    "id": "foster-center"
   },
   "outputs": [
    {
     "data": {
      "image/png": "[encoded data removed]",
      "text/plain": [
       "<Figure size 700x700 with 1 Axes>"
      ]
     },
     "metadata": {},
     "output_type": "display_data"
    },
    {
     "name": "stdout",
     "output_type": "stream",
     "text": [
      "0.001553829128337613\n"
     ]
    }
   ],
   "source": [
    "# 1.3.1.4\n",
    "# Get the predictions of x_test into `y_pred`\n",
    "\n",
    "fig, ax = plt.subplots(figsize=(7,7))\n",
    "ax.scatter(y_test, y_pred_f)\n",
    "\n",
    "\n",
    "lims = [\n",
    "    np.min([ax.get_xlim(), ax.get_ylim()]),\n",
    "    np.max([ax.get_xlim(), ax.get_ylim()]),\n",
    "]\n",
    "ax.plot(lims, lims, 'k-', alpha=0.75, zorder=0)\n",
    "ax.set_aspect('equal')\n",
    "ax.set_xlim(lims)\n",
    "ax.set_ylim(lims)\n",
    "\n",
    "ax.set_title('Parity Plot of Custom Linear Regression')\n",
    "ax.set_xlabel('Ground truth y-values')\n",
    "ax.set_ylabel('Predicted y-values')\n",
    "plt.show()\n",
    "print(min)"
   ]
  },
  {
   "cell_type": "markdown",
   "id": "dominant-chaos",
   "metadata": {
    "id": "dominant-chaos"
   },
   "source": [
    "### 1.3.2 Implement Ridge Regression\n",
    "\n",
    "1.3.2.1 Explain Ridge regression briefly in 1-2 lines.\n",
    "\n",
    "1.3.2.2 Implement Ridge regression and make a table of different RMSE scores you achieved with different values of alpha. What does the parameter `alpha` do?\n",
    "\n",
    "1.3.2.3 How does it affect the results here? Explain in 5-10 lines in total. (You can use scikit-learn from this cell onwards)\n",
    "\n",
    "1.3.2.4 Make a Parity Plot of Ridge Regression model's y-predictions on the test set with the actual values."
   ]
  },
  {
   "cell_type": "markdown",
   "id": "happy-cyprus",
   "metadata": {
    "id": "happy-cyprus"
   },
   "source": [
    "<!-- Your answer to 1.3.2.1 -->\n",
    "`1.3.2.1 Answer`"
   ]
  },
  {
   "cell_type": "code",
   "execution_count": null,
   "id": "02a50a51",
   "metadata": {
    "id": "02a50a51"
   },
   "outputs": [
    {
     "data": {
      "text/html": [
       "<div>\n",
       "<style scoped>\n",
       "    .dataframe tbody tr th:only-of-type {\n",
       "        vertical-align: middle;\n",
       "    }\n",
       "\n",
       "    .dataframe tbody tr th {\n",
       "        vertical-align: top;\n",
       "    }\n",
       "\n",
       "    .dataframe thead th {\n",
       "        text-align: right;\n",
       "    }\n",
       "</style>\n",
       "<table border=\"1\" class=\"dataframe\">\n",
       "  <thead>\n",
       "    <tr style=\"text-align: right;\">\n",
       "      <th></th>\n",
       "      <th>0</th>\n",
       "      <th>1</th>\n",
       "      <th>2</th>\n",
       "      <th>3</th>\n",
       "      <th>4</th>\n",
       "      <th>5</th>\n",
       "      <th>6</th>\n",
       "      <th>7</th>\n",
       "      <th>8</th>\n",
       "      <th>9</th>\n",
       "      <th>...</th>\n",
       "      <th>90</th>\n",
       "      <th>91</th>\n",
       "      <th>92</th>\n",
       "      <th>93</th>\n",
       "      <th>94</th>\n",
       "      <th>95</th>\n",
       "      <th>96</th>\n",
       "      <th>97</th>\n",
       "      <th>98</th>\n",
       "      <th>99</th>\n",
       "    </tr>\n",
       "  </thead>\n",
       "  <tbody>\n",
       "    <tr>\n",
       "      <th>alpha</th>\n",
       "      <td>0.010000</td>\n",
       "      <td>0.020101</td>\n",
       "      <td>0.030202</td>\n",
       "      <td>0.040303</td>\n",
       "      <td>0.050404</td>\n",
       "      <td>0.060505</td>\n",
       "      <td>0.070606</td>\n",
       "      <td>0.080707</td>\n",
       "      <td>0.090808</td>\n",
       "      <td>0.100909</td>\n",
       "      <td>...</td>\n",
       "      <td>0.919091</td>\n",
       "      <td>0.929192</td>\n",
       "      <td>0.939293</td>\n",
       "      <td>0.949394</td>\n",
       "      <td>0.959495</td>\n",
       "      <td>0.969596</td>\n",
       "      <td>0.979697</td>\n",
       "      <td>0.989798</td>\n",
       "      <td>0.999899</td>\n",
       "      <td>1.010000</td>\n",
       "    </tr>\n",
       "    <tr>\n",
       "      <th>RMSE</th>\n",
       "      <td>0.307387</td>\n",
       "      <td>0.282483</td>\n",
       "      <td>0.246501</td>\n",
       "      <td>0.214341</td>\n",
       "      <td>0.187362</td>\n",
       "      <td>0.165045</td>\n",
       "      <td>0.146632</td>\n",
       "      <td>0.131433</td>\n",
       "      <td>0.118874</td>\n",
       "      <td>0.108493</td>\n",
       "      <td>...</td>\n",
       "      <td>0.068754</td>\n",
       "      <td>0.069014</td>\n",
       "      <td>0.069275</td>\n",
       "      <td>0.069537</td>\n",
       "      <td>0.069801</td>\n",
       "      <td>0.070066</td>\n",
       "      <td>0.070332</td>\n",
       "      <td>0.070600</td>\n",
       "      <td>0.070869</td>\n",
       "      <td>0.071139</td>\n",
       "    </tr>\n",
       "  </tbody>\n",
       "</table>\n",
       "<p>2 rows × 100 columns</p>\n",
       "</div>"
      ],
      "text/plain": [
       "             0         1         2         3         4         5         6   \\\n",
       "alpha  0.010000  0.020101  0.030202  0.040303  0.050404  0.060505  0.070606   \n",
       "RMSE   0.307387  0.282483  0.246501  0.214341  0.187362  0.165045  0.146632   \n",
       "\n",
       "             7         8         9   ...        90        91        92  \\\n",
       "alpha  0.080707  0.090808  0.100909  ...  0.919091  0.929192  0.939293   \n",
       "RMSE   0.131433  0.118874  0.108493  ...  0.068754  0.069014  0.069275   \n",
       "\n",
       "             93        94        95        96        97        98        99  \n",
       "alpha  0.949394  0.959495  0.969596  0.979697  0.989798  0.999899  1.010000  \n",
       "RMSE   0.069537  0.069801  0.070066  0.070332  0.070600  0.070869  0.071139  \n",
       "\n",
       "[2 rows x 100 columns]"
      ]
     },
     "execution_count": 74,
     "metadata": {},
     "output_type": "execute_result"
    }
   ],
   "source": [
    "# 1.3.2.2\n",
    "# you should not have imported sklearn before this point\n",
    "import sklearn\n",
    "from sklearn.linear_model import Ridge\n",
    "from sklearn.metrics import mean_squared_error\n",
    "import pandas as pd\n",
    "rand=np.linspace(0.01, 1.01, num=100)\n",
    "zero=np.zeros(shape=(100,2))\n",
    "index=0\n",
    "y_pre_f=y_test\n",
    "min_lr=1\n",
    "min=float(\"inf\")\n",
    "for i in rand:\n",
    "    clf = Ridge(alpha=i)\n",
    "    clf.fit(x_train, y_train)\n",
    "    y_pre=clf.predict(x_test)\n",
    "    zero[index][1]=mean_squared_error(y_test,y_pre,squared=False)\n",
    "    zero[index][0]=i\n",
    "    if zero[index][1] < min :\n",
    "        min=zero[index][1]\n",
    "        min_lr=i\n",
    "        y_pre_f=y_pre\n",
    "    index=index+1\n",
    "\n",
    "pd.DataFrame(zero,columns=[\"alpha\",\"RMSE\"]).transpose()\n",
    "# implement Ridge regression and make a table where you explore the effect of different values of `alpha`"
   ]
  },
  {
   "cell_type": "markdown",
   "id": "e54d36d9",
   "metadata": {
    "id": "e54d36d9"
   },
   "source": [
    "<!-- Your answer to 1.3.2.3 -->\n",
    "`1.3.2.3 Answer`"
   ]
  },
  {
   "cell_type": "code",
   "execution_count": null,
   "id": "e9d2c1e8",
   "metadata": {
    "id": "e9d2c1e8"
   },
   "outputs": [
    {
     "data": {
      "image/png": "[encoded data removed]",
      "text/plain": [
       "<Figure size 700x700 with 1 Axes>"
      ]
     },
     "metadata": {},
     "output_type": "display_data"
    }
   ],
   "source": [
    "# 1.3.2.4\n",
    "\n",
    "fig, ax = plt.subplots(figsize=(7,7))\n",
    "\n",
    "ax.scatter(y_test, y_pre_f)\n",
    "\n",
    "\n",
    "lims = [\n",
    "    np.min([ax.get_xlim(), ax.get_ylim()]),\n",
    "    np.max([ax.get_xlim(), ax.get_ylim()]),\n",
    "]\n",
    "ax.plot(lims, lims, 'k-', alpha=0.75, zorder=0)\n",
    "ax.set_aspect('equal')\n",
    "ax.set_xlim(lims)\n",
    "ax.set_ylim(lims)\n",
    "\n",
    "ax.set_title('Parity Plot of Ridge Regression')\n",
    "ax.set_xlabel('Ground truth y-values')\n",
    "ax.set_ylabel('Predicted y-values')\n",
    "plt.show()"
   ]
  },
  {
   "cell_type": "markdown",
   "id": "popular-wonder",
   "metadata": {
    "id": "popular-wonder"
   },
   "source": [
    "### 1.3.3 Implement Lasso Regression\n",
    "1.3.3.1 Explain Lasso regression briefly in 1-2 lines.\n",
    "\n",
    "1.3.3.2 Implement Lasso regression and make a table of different RMSE scores you achieved with different values of alpha.\n",
    "\n",
    "1.3.3.3 What does the parameter `alpha` do? How does it affect the results here? Explain in 5-10 lines in total.\n",
    "\n",
    "1.3.3.4 Make a Parity Plot of Lasso Regression model's y-predictions on the test set with the actual values."
   ]
  },
  {
   "cell_type": "markdown",
   "id": "mV9BlPIjm-K1",
   "metadata": {
    "id": "mV9BlPIjm-K1"
   },
   "source": [
    "<!-- Your answer to 1.3.3.1 -->\n",
    "`1.3.3.1 Answer`"
   ]
  },
  {
   "cell_type": "code",
   "execution_count": null,
   "id": "09148bbc",
   "metadata": {
    "id": "09148bbc"
   },
   "outputs": [
    {
     "data": {
      "text/html": [
       "<div>\n",
       "<style scoped>\n",
       "    .dataframe tbody tr th:only-of-type {\n",
       "        vertical-align: middle;\n",
       "    }\n",
       "\n",
       "    .dataframe tbody tr th {\n",
       "        vertical-align: top;\n",
       "    }\n",
       "\n",
       "    .dataframe thead th {\n",
       "        text-align: right;\n",
       "    }\n",
       "</style>\n",
       "<table border=\"1\" class=\"dataframe\">\n",
       "  <thead>\n",
       "    <tr style=\"text-align: right;\">\n",
       "      <th></th>\n",
       "      <th>0</th>\n",
       "      <th>1</th>\n",
       "      <th>2</th>\n",
       "      <th>3</th>\n",
       "      <th>4</th>\n",
       "      <th>5</th>\n",
       "      <th>6</th>\n",
       "      <th>7</th>\n",
       "      <th>8</th>\n",
       "      <th>9</th>\n",
       "      <th>...</th>\n",
       "      <th>990</th>\n",
       "      <th>991</th>\n",
       "      <th>992</th>\n",
       "      <th>993</th>\n",
       "      <th>994</th>\n",
       "      <th>995</th>\n",
       "      <th>996</th>\n",
       "      <th>997</th>\n",
       "      <th>998</th>\n",
       "      <th>999</th>\n",
       "    </tr>\n",
       "  </thead>\n",
       "  <tbody>\n",
       "    <tr>\n",
       "      <th>alpha</th>\n",
       "      <td>0.001000</td>\n",
       "      <td>0.001009</td>\n",
       "      <td>0.001018</td>\n",
       "      <td>0.001027</td>\n",
       "      <td>0.001036</td>\n",
       "      <td>0.001045</td>\n",
       "      <td>0.001054</td>\n",
       "      <td>0.001063</td>\n",
       "      <td>0.001072</td>\n",
       "      <td>0.001081</td>\n",
       "      <td>...</td>\n",
       "      <td>0.009919</td>\n",
       "      <td>0.009928</td>\n",
       "      <td>0.009937</td>\n",
       "      <td>0.009946</td>\n",
       "      <td>0.009955</td>\n",
       "      <td>0.009964</td>\n",
       "      <td>0.009973</td>\n",
       "      <td>0.009982</td>\n",
       "      <td>0.009991</td>\n",
       "      <td>0.01000</td>\n",
       "    </tr>\n",
       "    <tr>\n",
       "      <th>RMSE</th>\n",
       "      <td>0.179667</td>\n",
       "      <td>0.179450</td>\n",
       "      <td>0.179214</td>\n",
       "      <td>0.178993</td>\n",
       "      <td>0.178747</td>\n",
       "      <td>0.178514</td>\n",
       "      <td>0.178294</td>\n",
       "      <td>0.178088</td>\n",
       "      <td>0.177850</td>\n",
       "      <td>0.177623</td>\n",
       "      <td>...</td>\n",
       "      <td>0.040985</td>\n",
       "      <td>0.041141</td>\n",
       "      <td>0.041298</td>\n",
       "      <td>0.041453</td>\n",
       "      <td>0.041613</td>\n",
       "      <td>0.041773</td>\n",
       "      <td>0.041931</td>\n",
       "      <td>0.042095</td>\n",
       "      <td>0.042259</td>\n",
       "      <td>0.04242</td>\n",
       "    </tr>\n",
       "  </tbody>\n",
       "</table>\n",
       "<p>2 rows × 1000 columns</p>\n",
       "</div>"
      ],
      "text/plain": [
       "            0         1         2         3         4         5         6    \\\n",
       "alpha  0.001000  0.001009  0.001018  0.001027  0.001036  0.001045  0.001054   \n",
       "RMSE   0.179667  0.179450  0.179214  0.178993  0.178747  0.178514  0.178294   \n",
       "\n",
       "            7         8         9    ...       990       991       992  \\\n",
       "alpha  0.001063  0.001072  0.001081  ...  0.009919  0.009928  0.009937   \n",
       "RMSE   0.178088  0.177850  0.177623  ...  0.040985  0.041141  0.041298   \n",
       "\n",
       "            993       994       995       996       997       998      999  \n",
       "alpha  0.009946  0.009955  0.009964  0.009973  0.009982  0.009991  0.01000  \n",
       "RMSE   0.041453  0.041613  0.041773  0.041931  0.042095  0.042259  0.04242  \n",
       "\n",
       "[2 rows x 1000 columns]"
      ]
     },
     "execution_count": 83,
     "metadata": {},
     "output_type": "execute_result"
    }
   ],
   "source": [
    "# 1.3.3.2\n",
    "# implement Lasso regression and make a table where you explore the effect of different values of `alpha`\n",
    "from sklearn.linear_model import Lasso\n",
    "from sklearn.metrics import mean_squared_error\n",
    "rand=np.linspace(0.001, 0.01, num=1000)\n",
    "zero=np.zeros(shape=(1000,2))\n",
    "index=0\n",
    "y_pre_l=y_test\n",
    "min_lr=1\n",
    "min=float(\"inf\")\n",
    "for i in rand:\n",
    "    clf = Lasso(alpha=i)\n",
    "    clf.fit(x_train, y_train)\n",
    "    y_pre_ll=clf.predict(x_test)\n",
    "    zero[index][1]=mean_squared_error(y_test,y_pre_ll,squared=False)\n",
    "    zero[index][0]=i\n",
    "    if zero[index][1] < min :\n",
    "        min=zero[index][1]\n",
    "        min_lr=i\n",
    "        y_pre_l=y_pre_ll\n",
    "    index=index+1\n",
    "\n",
    "pd.DataFrame(zero,columns=[\"alpha\",\"RMSE\"]).transpose()"
   ]
  },
  {
   "cell_type": "markdown",
   "id": "Hq5eyeqem-K2",
   "metadata": {
    "id": "Hq5eyeqem-K2"
   },
   "source": [
    "<!-- Your answer to 1.3.3.3 -->\n",
    "`1.3.3.3 Answer`"
   ]
  },
  {
   "cell_type": "code",
   "execution_count": null,
   "id": "accompanied-worst",
   "metadata": {
    "id": "accompanied-worst"
   },
   "outputs": [
    {
     "data": {
      "image/png": "[encoded data removed]",
      "text/plain": [
       "<Figure size 700x700 with 1 Axes>"
      ]
     },
     "metadata": {},
     "output_type": "display_data"
    },
    {
     "name": "stdout",
     "output_type": "stream",
     "text": [
      "0.00873873873873874\n"
     ]
    }
   ],
   "source": [
    "# 1.3.3.4\n",
    "fig, ax = plt.subplots(figsize=(7,7))\n",
    "\n",
    "ax.scatter(y_test, y_pre_l)\n",
    "\n",
    "\n",
    "lims = [\n",
    "    np.min([ax.get_xlim(), ax.get_ylim()]),\n",
    "    np.max([ax.get_xlim(), ax.get_ylim()]),\n",
    "]\n",
    "ax.plot(lims, lims, 'k-', alpha=0.75, zorder=0)\n",
    "ax.set_aspect('equal')\n",
    "ax.set_xlim(lims)\n",
    "ax.set_ylim(lims)\n",
    "\n",
    "ax.set_title('Parity Plot of Lasso Regression')\n",
    "ax.set_xlabel('Ground truth y-values')\n",
    "ax.set_ylabel('Predicted y-values')\n",
    "plt.show()\n",
    "print(min_lr)"
   ]
  },
  {
   "cell_type": "code",
   "execution_count": null,
   "id": "1177398f",
   "metadata": {},
   "outputs": [],
   "source": []
  }
 ],
 "metadata": {
  "colab": {
   "provenance": []
  },
  "kernelspec": {
   "display_name": "base",
   "language": "python",
   "name": "python3"
  },
  "language_info": {
   "codemirror_mode": {
    "name": "ipython",
    "version": 3
   },
   "file_extension": ".py",
   "mimetype": "text/x-python",
   "name": "python",
   "nbconvert_exporter": "python",
   "pygments_lexer": "ipython3",
   "version": "3.8.8 (default, Apr 13 2021, 15:08:03) [MSC v.1916 64 bit (AMD64)]"
  },
  "vscode": {
   "interpreter": {
    "hash": "e42634819b8c191a5d07eaf23810ff32516dd8d3875f28ec3e488928fbd3c187"
   }
  }
 },
 "nbformat": 4,
 "nbformat_minor": 5
}
